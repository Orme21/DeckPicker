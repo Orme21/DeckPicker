{
 "cells": [
  {
   "cell_type": "markdown",
   "id": "47a1c14f",
   "metadata": {},
   "source": [
    "# Deck shuffler"
   ]
  },
  {
   "cell_type": "markdown",
   "id": "f33455d3",
   "metadata": {},
   "source": [
    "L'idée est de faire un trieur de deck. Il devra récupérer la liste de deck et devra choisir 6 deck parmi la liste.  Il devra choisir un deck qui n'a pas été amené avec au moins la moitié qui ne soit pas composé de proxy et au moins qui peut-être joué conre des gros decks. Unefois les decks choisi, l'utilisateur devra valider la sélection puis le programme mettra à jour les deck amenés."
   ]
  },
  {
   "cell_type": "markdown",
   "id": "2727f82f",
   "metadata": {},
   "source": [
    "## Créer le json"
   ]
  },
  {
   "cell_type": "code",
   "execution_count": 1,
   "id": "c79d6833",
   "metadata": {},
   "outputs": [],
   "source": [
    "import json\n",
    "import os, shutil\n",
    "\n",
    "# Data to be written\n",
    "decks = {\n",
    "    \"decks\": [\n",
    "        {\n",
    "            \"nom\": \"Deck 1\",\n",
    "            \"amene\": True,\n",
    "            \"gros_deck\": False,\n",
    "            \"proxy\": False\n",
    "        },\n",
    "        {\n",
    "            \"nom\": \"Deck 2\",\n",
    "            \"amene\": False,\n",
    "            \"gros_deck\": True,\n",
    "            \"proxy\": False\n",
    "        },\n",
    "        {\n",
    "            \"nom\": \"Deck 3\",\n",
    "            \"amene\": True,\n",
    "            \"gros_deck\": True,\n",
    "            \"proxy\": True\n",
    "        },\n",
    "        {\n",
    "            \"nom\": \"Deck 4\",\n",
    "            \"amene\": False,\n",
    "            \"gros_deck\": False,\n",
    "            \"proxy\": True\n",
    "        },\n",
    "        {\n",
    "            \"nom\": \"Deck 5\",\n",
    "            \"amene\": False,\n",
    "            \"gros_deck\": False,\n",
    "            \"proxy\": False\n",
    "        }\n",
    "    ]\n",
    "}\n",
    "\n",
    "if os.path.isfile(\"deck.json\"):\n",
    "    os.remove(\"deck.json\")\n",
    "\n",
    "# Serializing json\n",
    "json_object = json.dumps(decks, indent=4)\n",
    "\n",
    "# Writing to sample.json\n",
    "with open(\"deck.json\", \"w\") as outfile:\n",
    "    outfile.write(json_object)"
   ]
  },
  {
   "cell_type": "code",
   "execution_count": 1,
   "id": "fd5631a8",
   "metadata": {},
   "outputs": [
    {
     "name": "stdout",
     "output_type": "stream",
     "text": [
      "{'nom': 'Deck 1', 'amene': False, 'gros_deck': False, 'proxy': False}\n",
      "{'nom': 'Deck 4', 'amene': False, 'gros_deck': False, 'proxy': True}\n",
      "validez-vous la sélection? True or False\n",
      "False\n",
      "{'nom': 'Deck 1', 'amene': False, 'gros_deck': False, 'proxy': False}\n",
      "{'nom': 'Deck 4', 'amene': False, 'gros_deck': False, 'proxy': True}\n",
      "validez-vous la sélection? True or False\n",
      "True\n"
     ]
    }
   ],
   "source": [
    "import json\n",
    "import random\n",
    "\n",
    "# Ouvrir et lire le fichier JSON\n",
    "with open('deck.json', 'r') as openfile:\n",
    "    json_object = json.load(openfile)\n",
    "\n",
    "x = False\n",
    "\n",
    "while not x:\n",
    "    deckUsed = []\n",
    "    nbrDeckChoisi = 0\n",
    "    choixDeck = []\n",
    "    proxy = 0\n",
    "    grosDeck = False\n",
    "    DeckTotal = 2\n",
    "    while nbrDeckChoisi < DeckTotal:\n",
    "        rangeDeck = random.randint(0, len(json_object['decks']) - 1)\n",
    "\n",
    "        if rangeDeck not in deckUsed:\n",
    "            deck = json_object['decks'][rangeDeck]\n",
    "\n",
    "        # Si le deck n'a pas été \"amene\"\n",
    "            if not deck['amene']:\n",
    "\n",
    "            # Si c'est un gros deck et qu'aucun gros deck n'a été sélectionné\n",
    "                if deck['gros_deck']:\n",
    "                    if grosDeck:\n",
    "                        continue \n",
    "                    else:\n",
    "                        grosDeck = True  \n",
    "\n",
    "            # Gérer la condition du proxy\n",
    "                if deck['proxy']:\n",
    "                    if proxy >= DeckTotal / 2:\n",
    "                        continue\n",
    "                    proxy += 1  \n",
    "                \n",
    "                choixDeck.append(deck)\n",
    "                nbrDeckChoisi += 1\n",
    "                deckUsed.append(rangeDeck)\n",
    "\n",
    "    # Affichage des résultats\n",
    "    for deck in choixDeck:\n",
    "        print(deck)\n",
    "\n",
    "    print(f\"validez-vous la sélection? True or False\")\n",
    "\n",
    "    user_input = input()\n",
    "\n",
    "    if user_input.lower() == \"true\":\n",
    "        x = True\n",
    "    else:\n",
    "        x = False"
   ]
  },
  {
   "cell_type": "code",
   "execution_count": 3,
   "id": "1fbf3e77",
   "metadata": {},
   "outputs": [
    {
     "name": "stdout",
     "output_type": "stream",
     "text": [
      "Fini, merci d'avoir utilisé le trieur de deck automatique\n"
     ]
    }
   ],
   "source": [
    "import os, shutil\n",
    "for deck in json_object['decks']:\n",
    "    deck['amene'] = False\n",
    "    \n",
    "for idDeck in deckUsed:\n",
    "    json_object['decks'][idDeck]['amene'] = True\n",
    "    \n",
    "if os.path.isfile(\"deck.json\"):\n",
    "    os.remove(\"deck.json\")\n",
    "\n",
    "# Serializing json_object correctement\n",
    "json_string = json.dumps(json_object, indent=4)\n",
    "\n",
    "# Écrire l'objet JSON mis à jour dans un nouveau fichier\n",
    "with open(\"deck.json\", \"w\") as outfile:\n",
    "    outfile.write(json_string)\n",
    "print(\"Fini, merci d'avoir utilisé le trieur de deck automatique\")"
   ]
  },
  {
   "cell_type": "code",
   "execution_count": null,
   "id": "dc996bc4",
   "metadata": {},
   "outputs": [],
   "source": []
  },
  {
   "cell_type": "code",
   "execution_count": null,
   "id": "04da4e05",
   "metadata": {},
   "outputs": [],
   "source": []
  }
 ],
 "metadata": {
  "kernelspec": {
   "display_name": "Python 3 (ipykernel)",
   "language": "python",
   "name": "python3"
  },
  "language_info": {
   "codemirror_mode": {
    "name": "ipython",
    "version": 3
   },
   "file_extension": ".py",
   "mimetype": "text/x-python",
   "name": "python",
   "nbconvert_exporter": "python",
   "pygments_lexer": "ipython3",
   "version": "3.11.5"
  }
 },
 "nbformat": 4,
 "nbformat_minor": 5
}
